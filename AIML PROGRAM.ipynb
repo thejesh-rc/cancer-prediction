{
 "cells": [
  {
   "cell_type": "code",
   "execution_count": null,
   "id": "3720aefc-e604-4488-bab2-8ffe3e9a2e1f",
   "metadata": {},
   "outputs": [
    {
     "name": "stdout",
     "output_type": "stream",
     "text": [
      "Model Accuracy: 32.52%\n"
     ]
    }
   ],
   "source": [
    "import pandas as pd\n",
    "from sklearn.model_selection import train_test_split\n",
    "from sklearn.ensemble import RandomForestClassifier\n",
    "from sklearn.preprocessing import LabelEncoder\n",
    "from sklearn.metrics import accuracy_score\n",
    "\n",
    "# Load and preprocess the dataset\n",
    "df = pd.read_csv(\"aiml.csv\")\n",
    "df = df.dropna()  # Drop rows with missing values\n",
    "\n",
    "# Label Encoding for categorical features\n",
    "label_encoders = {}\n",
    "for col in ['Blood Group', 'Gender', 'Cancer Stage', 'Symptom 1', 'Symptom 2', 'Symptom 3', 'Symptom 4', 'Symptom 5', 'Symptom 6', 'Symptom 7', 'Symptom 8']:\n",
    "    label_encoders[col] = LabelEncoder()\n",
    "    df[col] = label_encoders[col].fit_transform(df[col])\n",
    "\n",
    "# Define features and target\n",
    "symptom_columns = ['Symptom 1', 'Symptom 2', 'Symptom 3', 'Symptom 4', 'Symptom 5', 'Symptom 6', 'Symptom 7', 'Symptom 8']\n",
    "x = df[['Blood Group', 'Gender'] + symptom_columns]\n",
    "y = df['Cancer Stage']\n",
    "\n",
    "# Split data into training and testing sets\n",
    "x_train, x_test, y_train, y_test = train_test_split(x, y, test_size=0.2, random_state=42)\n",
    "\n",
    "# Train the Random Forest model\n",
    "model = RandomForestClassifier(n_estimators=100, random_state=42)\n",
    "model.fit(x_train, y_train)\n",
    "\n",
    "# Evaluate model accuracy\n",
    "accuracy = accuracy_score(y_test, model.predict(x_test))\n",
    "print(f\"Model Accuracy: {accuracy * 100:.2f}%\")\n",
    "\n",
    "# Prediction function with flexible symptom input\n",
    "def predict_cancer_stage():\n",
    "    try:\n",
    "        # Get user input for blood group, gender, and symptoms\n",
    "        user_name=input(\"enter your name:\")\n",
    "        blood_group = input(\"Enter Blood Group (A+, A-, B+, etc.): \")\n",
    "        gender = input(\"Enter Gender (Male/Female): \")\n",
    "        \n",
    "        # Collect symptoms input\n",
    "        symptoms = []\n",
    "        print(\"Enter symptoms (type 'done' when finished):\")\n",
    "        for i in range(1, 9):\n",
    "            symptom = input(f\"Enter Symptom {i} (or type 'done' if you have no more symptoms): \")\n",
    "            if symptom.lower() == 'done':\n",
    "                break\n",
    "            symptoms.append(symptom)\n",
    "        \n",
    "        # Encoding blood group and gender\n",
    "        blood_group_encoded = label_encoders['Blood Group'].transform([blood_group])[0]\n",
    "        gender_encoded = label_encoders['Gender'].transform([gender])[0]\n",
    "\n",
    "        # Create a list for symptom encoding\n",
    "        symptom_encoded = [0] * 8  # Initialize all symptoms as '0' (absent)\n",
    "        \n",
    "        # Encode symptoms provided by the user\n",
    "        for symptom in symptoms:\n",
    "            try:\n",
    "                # Transform the entered symptom to its encoded form (if it exists in the training data)\n",
    "                symptom_index = label_encoders[f'Symptom {symptoms.index(symptom) + 1}'].transform([symptom])[0]\n",
    "                symptom_encoded[symptoms.index(symptom)] = symptom_index\n",
    "            except ValueError:\n",
    "                print(f\"Warning: '{symptom}' is not a recognized symptom.\")\n",
    "                continue\n",
    "\n",
    "        # Combine all inputs into a single list for prediction\n",
    "        user_input = [blood_group_encoded, gender_encoded] + symptom_encoded\n",
    "        predicted_stage = model.predict([user_input])[0]\n",
    "\n",
    "        # Output the predicted cancer stage\n",
    "        print(f\"Predicted Cancer Stage: {label_encoders['Cancer Stage'].inverse_transform([predicted_stage])[0]}\")\n",
    "        \n",
    "    except ValueError as e:\n",
    "        print(f\"Invalid input: {e}\")\n",
    "\n",
    "# Run the prediction function\n",
    "predict_cancer_stage()"
   ]
  },
  {
   "cell_type": "code",
   "execution_count": null,
   "id": "e3854af7-c1e5-452c-a9b5-48c4b18bb2af",
   "metadata": {},
   "outputs": [],
   "source": []
  }
 ],
 "metadata": {
  "kernelspec": {
   "display_name": "Python [conda env:base] *",
   "language": "python",
   "name": "conda-base-py"
  },
  "language_info": {
   "codemirror_mode": {
    "name": "ipython",
    "version": 3
   },
   "file_extension": ".py",
   "mimetype": "text/x-python",
   "name": "python",
   "nbconvert_exporter": "python",
   "pygments_lexer": "ipython3",
   "version": "3.12.7"
  }
 },
 "nbformat": 4,
 "nbformat_minor": 5
}
